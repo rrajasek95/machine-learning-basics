{
 "cells": [
  {
   "cell_type": "markdown",
   "metadata": {},
   "source": [
    "# Linear Regression"
   ]
  },
  {
   "cell_type": "markdown",
   "metadata": {},
   "source": [
    "## Introduction"
   ]
  },
  {
   "cell_type": "markdown",
   "metadata": {},
   "source": [
    "In the field of Machine Learning, the fundamental principle is to model phenomena or more simplistically a system which encodes some information.\n",
    "\n",
    "Examples of systems and the kind of information is encoded:\n",
    "\n",
    "1. A stock market where the price of a stock is an encoding of what the investors believe about its value and information about the company's performance\n",
    "1. The distribution of height across different ethnic groups is the result of encoded genetic information\n",
    "1. Our tendency to support a certain politician is the result of encoded values that we believe in "
   ]
  },
  {
   "cell_type": "markdown",
   "metadata": {},
   "source": [
    "Therefore, the goal is to identify how some collected information encode to a certain result. In mathematical terms,  \n",
    "\n",
    "$$ y = f(x) $$\n",
    "\n",
    "Where $ y $ and $ x $ are the result and the data respectively and $ f $ is a function which performs the encoding."
   ]
  },
  {
   "cell_type": "markdown",
   "metadata": {},
   "source": [
    "##  Modelling the real world"
   ]
  },
  {
   "cell_type": "markdown",
   "metadata": {},
   "source": [
    "Typically, when building a model, we try to base it off some known information. Most typically, it is one where we have some measured input and output. In science, an explanation of how some information leads to a certain conclusion is known as a _hypothesis_. A good hypothesis gives a more accurate conclusion."
   ]
  },
  {
   "cell_type": "markdown",
   "metadata": {},
   "source": [
    "### A Physics Simulation"
   ]
  },
  {
   "cell_type": "markdown",
   "metadata": {},
   "source": [
    "Let us consider a simulation where we try to determine the equation of motion of a body. We can query for the x-y coordinates of the body every second."
   ]
  },
  {
   "cell_type": "code",
   "execution_count": 25,
   "metadata": {},
   "outputs": [],
   "source": [
    "from physics import Engine\n",
    "\n",
    "engine = Engine()\n",
    "\n",
    "timeMoments = list(range(20))\n",
    "positions = [engine.queryPosition() for moment in timeMoments]"
   ]
  },
  {
   "cell_type": "code",
   "execution_count": 26,
   "metadata": {},
   "outputs": [],
   "source": [
    "xs, ys = zip(*[(x, y) for x,y in positions])"
   ]
  },
  {
   "cell_type": "code",
   "execution_count": 27,
   "metadata": {},
   "outputs": [
    {
     "data": {
      "image/png": "[encoded data removed]",
      "text/plain": [
       "<matplotlib.figure.Figure at 0x7f2a4a70f6d8>"
      ]
     },
     "metadata": {},
     "output_type": "display_data"
    }
   ],
   "source": [
    "import matplotlib.pyplot as plt\n",
    "\n",
    "plt.scatter(timeMoments, ys)\n",
    "plt.show()"
   ]
  },
  {
   "cell_type": "code",
   "execution_count": null,
   "metadata": {},
   "outputs": [],
   "source": []
  }
 ],
 "metadata": {
  "kernelspec": {
   "display_name": "Python 3",
   "language": "python",
   "name": "python3"
  },
  "language_info": {
   "codemirror_mode": {
    "name": "ipython",
    "version": 3
   },
   "file_extension": ".py",
   "mimetype": "text/x-python",
   "name": "python",
   "nbconvert_exporter": "python",
   "pygments_lexer": "ipython3",
   "version": "3.6.4"
  }
 },
 "nbformat": 4,
 "nbformat_minor": 2
}
