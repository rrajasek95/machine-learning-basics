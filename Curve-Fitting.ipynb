{
 "cells": [
  {
   "cell_type": "markdown",
   "metadata": {},
   "source": [
    "# Curve Fitting"
   ]
  },
  {
   "cell_type": "code",
   "execution_count": 1,
   "metadata": {},
   "outputs": [],
   "source": [
    "import numpy as np\n",
    "import matplotlib.pyplot as plt"
   ]
  },
  {
   "cell_type": "code",
   "execution_count": 12,
   "metadata": {},
   "outputs": [
    {
     "data": {
      "text/plain": [
       "<matplotlib.collections.PathCollection at 0x7f76a38366d8>"
      ]
     },
     "execution_count": 12,
     "metadata": {},
     "output_type": "execute_result"
    },
    {
     "data": {
      "image/png": "[encoded data removed]",
      "text/plain": [
       "<Figure size 432x288 with 1 Axes>"
      ]
     },
     "metadata": {},
     "output_type": "display_data"
    }
   ],
   "source": [
    "x = np.arange(1, 2, 0.1)\n",
    "y = np.sin(2 * np.pi * x)\n",
    "\n",
    "y_noisy = np.sin(2 * np.pi * x) + np.random.normal(scale=0.15,size=x.shape)\n",
    "\n",
    "plt.plot(x, y)\n",
    "plt.scatter(x, y_noisy, c='r', marker= 'x')"
   ]
  },
  {
   "cell_type": "code",
   "execution_count": 13,
   "metadata": {},
   "outputs": [],
   "source": [
    "def eval_polynomial(x, coeffs):\n",
    "    assert type(coeffs) is np.ndarray, \"Type of coeffs must be an ndarray\"\n",
    "    x_pows = np.array([x**i for i in range(coeffs.shape[0])])\n",
    "    return np.dot(x_pows, coeffs)"
   ]
  },
  {
   "cell_type": "code",
   "execution_count": 14,
   "metadata": {},
   "outputs": [
    {
     "name": "stdout",
     "output_type": "stream",
     "text": [
      "f(x) = x^2 + 2x + 1; f(2)= 9\n"
     ]
    }
   ],
   "source": [
    "coeffs = np.array([1, 2, 1])\n",
    "print(\"f(x) = x^2 + 2x + 1; f(2)=\", eval_polynomial(2, coeffs))"
   ]
  },
  {
   "cell_type": "markdown",
   "metadata": {},
   "source": [
    "## Linear Models"
   ]
  },
  {
   "cell_type": "markdown",
   "metadata": {},
   "source": [
    "Even though a polynomial is a non-linear function, the coefficients vary in a linear fashion. \n",
    "\n",
    "Models where the unkown parameters i.e. the coefficients are linear in nature are known as _linear models_"
   ]
  },
  {
   "cell_type": "code",
   "execution_count": 15,
   "metadata": {},
   "outputs": [],
   "source": [
    "def squared_loss_error(target, predictions):\n",
    "    assert type(target) is np.ndarray and type(predictions) is np.ndarray, \"Both variables must be numpy arrays\"\n",
    "    assert target.shape == predictions.shape, \"Shape mismatch of arrays\"\n",
    "    \n",
    "    error = 0.5 * np.sum( np.square( predictions - target ) )\n",
    "    \n",
    "    return error\n",
    "\n",
    "assert squared_loss_error(np.array([1, 1]), np.array([1, 1])) == 0, \"error is 0 when predictions == target\"\n",
    "# Let's not be crazy enough to assume that the error value is exact for non-zero values; Accepted delta = 0.01\n",
    "assert 1.99 < squared_loss_error(np.array([2, 0]), np.array([0, 0])) < 2.01, \"Error should roughly equal 2\" "
   ]
  },
  {
   "cell_type": "markdown",
   "metadata": {},
   "source": [
    "### Solving for polynomial curve fitting"
   ]
  },
  {
   "cell_type": "code",
   "execution_count": 16,
   "metadata": {},
   "outputs": [],
   "source": [
    "from numpy.linalg import det\n",
    "\n",
    "def generate_curve_fitting_polynomial(degree, x, y, debug=False):\n",
    "    assert type(x) is np.ndarray and type(y) is np.ndarray, \"Both x and y should be numpy arrays\"\n",
    "    assert x.shape == y.shape, \"Shape mismatch of arrays\"\n",
    "    \n",
    "    pow_sum = [sum([x_n**i for x_n in x]) for i in range(0, 2*degree + 1)]\n",
    "    \n",
    "    M = np.matrix([[pow_sum[i + j] for i in range(0, degree + 1)] for j in range(0, degree + 1)])\n",
    "    \n",
    "    det_M = det(M)\n",
    "    \n",
    "    coeffs = np.empty((degree + 1))\n",
    "    b = np.array([sum([(x_n**i)*y_n for (x_n,y_n) in zip(x, y)]) for i in range(0, degree + 1)])\n",
    "        \n",
    "    # Calculating the coefficients according to Cramer's rule\n",
    "    for i in range(0, degree + 1):\n",
    "        \n",
    "        M_i = np.copy(M)\n",
    "        M_i[:,i] = b\n",
    "        coeffs[i] = det(M_i) / det_M\n",
    "        \n",
    "    return coeffs\n"
   ]
  },
  {
   "cell_type": "code",
   "execution_count": 17,
   "metadata": {},
   "outputs": [
    {
     "data": {
      "text/plain": [
       "<matplotlib.collections.PathCollection at 0x7f76a3568400>"
      ]
     },
     "execution_count": 17,
     "metadata": {},
     "output_type": "execute_result"
    },
    {
     "data": {
      "image/png": "[encoded data removed]",
      "text/plain": [
       "<Figure size 432x288 with 1 Axes>"
      ]
     },
     "metadata": {},
     "output_type": "display_data"
    }
   ],
   "source": [
    "toy_x = np.array([-3, -2, -1, -0.2, 1, 3])\n",
    "toy_y = np.array([0.9, 0.8, 0.4, 0.2, 0.1, 0])\n",
    "coeffs = generate_curve_fitting_polynomial(2, toy_x, toy_y, debug=True)\n",
    "toy_pred = [eval_polynomial(x_n, coeffs) for x_n in toy_x]\n",
    "plt.plot(toy_x, toy_pred)\n",
    "plt.scatter(toy_x, toy_pred)"
   ]
  },
  {
   "cell_type": "code",
   "execution_count": 59,
   "metadata": {},
   "outputs": [
    {
     "data": {
      "text/plain": [
       "<matplotlib.collections.PathCollection at 0x7f76a29d8da0>"
      ]
     },
     "execution_count": 59,
     "metadata": {},
     "output_type": "execute_result"
    },
    {
     "data": {
      "image/png": "[encoded data removed]",
      "text/plain": [
       "<Figure size 432x288 with 1 Axes>"
      ]
     },
     "metadata": {},
     "output_type": "display_data"
    }
   ],
   "source": [
    "coeffs = generate_curve_fitting_polynomial(4, x, y_noisy)\n",
    "x_curve = np.arange(1, 2, 0.01)\n",
    "y_curve = [eval_polynomial(x_n, coeffs) for x_n in x_curve]\n",
    "plt.plot(x_curve, y_curve)\n",
    "plt.scatter(x, y_noisy)"
   ]
  },
  {
   "cell_type": "code",
   "execution_count": 60,
   "metadata": {},
   "outputs": [],
   "source": [
    "from math import sqrt\n",
    "def root_mean_square_error(target, predictions):\n",
    "    return sqrt(2 * squared_loss_error(target, predictions) / target.shape)"
   ]
  },
  {
   "cell_type": "code",
   "execution_count": 61,
   "metadata": {},
   "outputs": [
    {
     "name": "stdout",
     "output_type": "stream",
     "text": [
      "error:  0.7585480910260338\n",
      "error:  0.4582778709993678\n",
      "error:  0.4063423347559982\n",
      "error:  0.12245379455461744\n",
      "error:  0.11995219750207321\n",
      "error:  0.10810388304619022\n",
      "error:  0.42835913880297716\n"
     ]
    },
    {
     "data": {
      "text/plain": [
       "[<matplotlib.lines.Line2D at 0x7f76a29ace48>]"
      ]
     },
     "execution_count": 61,
     "metadata": {},
     "output_type": "execute_result"
    },
    {
     "data": {
      "image/png": "[encoded data removed]",
      "text/plain": [
       "<Figure size 432x288 with 1 Axes>"
      ]
     },
     "metadata": {},
     "output_type": "display_data"
    }
   ],
   "source": [
    "errors = []\n",
    "\n",
    "n = 7\n",
    "for i in range(0, n):\n",
    "    coeffs = generate_curve_fitting_polynomial(i, x, y_noisy)\n",
    "    y_preds = np.array([eval_polynomial(x_n, coeffs) for x_n in x])\n",
    "    rms = root_mean_square_error(y_noisy, y_preds)\n",
    "    print(\"error: \", rms)\n",
    "    errors.append(rms)\n",
    "    \n",
    "plt.plot(range(0, n), errors)"
   ]
  },
  {
   "cell_type": "code",
   "execution_count": 64,
   "metadata": {},
   "outputs": [
    {
     "name": "stdout",
     "output_type": "stream",
     "text": [
      "error:  0.7585480910260338\n",
      "error:  2.791005804432398\n",
      "error:  0.4217962803736609\n",
      "error:  46.3237049122399\n",
      "error:  65.05281190828813\n",
      "error:  163.49507877438214\n",
      "error:  483.60475857778977\n"
     ]
    },
    {
     "data": {
      "text/plain": [
       "[<matplotlib.lines.Line2D at 0x7f76a2851978>]"
      ]
     },
     "execution_count": 64,
     "metadata": {},
     "output_type": "execute_result"
    },
    {
     "data": {
      "image/png": "[encoded data removed]",
      "text/plain": [
       "<Figure size 432x288 with 1 Axes>"
      ]
     },
     "metadata": {},
     "output_type": "display_data"
    }
   ],
   "source": [
    "from numpy import polyfit\n",
    "\n",
    "n = 7\n",
    "errors = []\n",
    "for i in range(0, n):\n",
    "    coeffs = polyfit(x, y_noisy, i)\n",
    "    y_preds = np.array([eval_polynomial(x_n, coeffs) for x_n in x])\n",
    "    rms = root_mean_square_error(y_noisy, y_preds)\n",
    "    print(\"error: \", rms)\n",
    "    errors.append(rms)\n",
    "    \n",
    "plt.plot(range(0, n), errors)"
   ]
  },
  {
   "cell_type": "code",
   "execution_count": null,
   "metadata": {},
   "outputs": [],
   "source": []
  },
  {
   "cell_type": "code",
   "execution_count": null,
   "metadata": {},
   "outputs": [],
   "source": []
  },
  {
   "cell_type": "code",
   "execution_count": null,
   "metadata": {},
   "outputs": [],
   "source": []
  }
 ],
 "metadata": {
  "kernelspec": {
   "display_name": "Python (tensorflow)",
   "language": "python",
   "name": "tensorflow"
  },
  "language_info": {
   "codemirror_mode": {
    "name": "ipython",
    "version": 3
   },
   "file_extension": ".py",
   "mimetype": "text/x-python",
   "name": "python",
   "nbconvert_exporter": "python",
   "pygments_lexer": "ipython3",
   "version": "3.6.5"
  }
 },
 "nbformat": 4,
 "nbformat_minor": 2
}
